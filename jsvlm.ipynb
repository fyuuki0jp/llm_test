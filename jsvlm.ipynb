{
 "cells": [
  {
   "cell_type": "code",
   "execution_count": null,
   "metadata": {},
   "outputs": [],
   "source": [
    "import torch\n",
    "from transformers import AutoTokenizer, AutoModelForVision2Seq, AutoImageProcessor\n",
    "from PIL import Image\n",
    "import requests"
   ]
  },
  {
   "cell_type": "code",
   "execution_count": null,
   "metadata": {},
   "outputs": [],
   "source": [
    "\n",
    "# helper function to format input prompts\n",
    "TASK2INSTRUCTION = {\n",
    "    \"caption\": \"画像を詳細に述べてください。\",\n",
    "    \"tag\": \"与えられた単語を使って、画像を詳細に述べてください。\",\n",
    "    \"vqa\": \"与えられた画像を下に、質問に答えてください。\",\n",
    "}\n",
    "\n",
    "\n",
    "def build_prompt(task=\"caption\", input=None, sep=\"\\n\\n### \"):\n",
    "    assert (\n",
    "        task in TASK2INSTRUCTION\n",
    "    ), f\"Please choose from {list(TASK2INSTRUCTION.keys())}\"\n",
    "    if task in [\"tag\", \"vqa\"]:\n",
    "        assert input is not None, \"Please fill in `input`!\"\n",
    "        if task == \"tag\" and isinstance(input, list):\n",
    "            input = \"、\".join(input)\n",
    "    else:\n",
    "        assert input is None, f\"`{task}` mode doesn't support to input questions\"\n",
    "    sys_msg = \"以下は、タスクを説明する指示と、文脈のある入力の組み合わせです。要求を適切に満たす応答を書きなさい。\"\n",
    "    p = sys_msg\n",
    "    roles = [\"指示\", \"応答\"]\n",
    "    instruction = TASK2INSTRUCTION[task]\n",
    "    msgs = [\": \\n\" + instruction, \": \\n\"]\n",
    "    if input:\n",
    "        roles.insert(1, \"入力\")\n",
    "        msgs.insert(1, \": \\n\" + input)\n",
    "    for role, msg in zip(roles, msgs):\n",
    "        p += sep + role + msg\n",
    "    return p\n",
    "\n",
    "# load model\n",
    "device = \"mps\"\n",
    "model = AutoModelForVision2Seq.from_pretrained(\"stabilityai/japanese-stable-vlm\", trust_remote_code=True, torch_dtype=torch.float16, variant= \"fp16\")\n",
    "processor = AutoImageProcessor.from_pretrained(\"stabilityai/japanese-stable-vlm\")\n",
    "tokenizer = AutoTokenizer.from_pretrained(\"stabilityai/japanese-stable-vlm\")\n",
    "model.to(device)"
   ]
  },
  {
   "cell_type": "code",
   "execution_count": null,
   "metadata": {},
   "outputs": [],
   "source": [
    "\n",
    "print('generate image token')\n",
    "# prepare inputs\n",
    "url = \"https://images.unsplash.com/photo-1582538885592-e70a5d7ab3d3?ixlib=rb-4.0.3&ixid=M3wxMjA3fDB8MHxwaG90by1wYWdlfHx8fGVufDB8fHx8fA%3D%3D&auto=format&fit=crop&w=1770&q=80\"\n",
    "image = Image.open(requests.get(url, stream=True).raw).convert(\"RGB\")\n",
    "# prompt = build_prompt(task=\"caption\")\n",
    "# prompt = build_prompt(task=\"tag\", input=[\"河津桜\", \"青空\"])\n",
    "prompt = build_prompt(task=\"vqa\", input=\"季節はいつですか？\")\n",
    "\n",
    "inputs = processor(images=image, return_tensors=\"pt\")\n",
    "text_encoding = tokenizer(prompt, add_special_tokens=False, return_tensors=\"pt\")\n",
    "inputs.update(text_encoding)\n",
    "\n",
    "print('generate answer')\n",
    "# generate\n",
    "outputs = model.generate(\n",
    "    **inputs.to(device, dtype=model.dtype),\n",
    "    do_sample=False,\n",
    "    num_beams=5,\n",
    "    max_new_tokens=128,\n",
    "    min_length=1,\n",
    "    repetition_penalty=1.5,\n",
    ")\n",
    "generated_text = tokenizer.batch_decode(outputs, skip_special_tokens=True)[0].strip()\n",
    "print(generated_text)\n",
    "# 桜越しの東京スカイツリー"
   ]
  },
  {
   "cell_type": "code",
   "execution_count": null,
   "metadata": {},
   "outputs": [],
   "source": []
  }
 ],
 "metadata": {
  "kernelspec": {
   "display_name": ".venv",
   "language": "python",
   "name": "python3"
  },
  "language_info": {
   "codemirror_mode": {
    "name": "ipython",
    "version": 3
   },
   "file_extension": ".py",
   "mimetype": "text/x-python",
   "name": "python",
   "nbconvert_exporter": "python",
   "pygments_lexer": "ipython3",
   "version": "3.11.7"
  }
 },
 "nbformat": 4,
 "nbformat_minor": 2
}
